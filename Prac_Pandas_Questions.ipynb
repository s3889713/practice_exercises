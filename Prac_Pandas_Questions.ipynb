{
 "cells": [
  {
   "cell_type": "markdown",
   "metadata": {},
   "source": [
    "# Pandas Exercises"
   ]
  },
  {
   "cell_type": "markdown",
   "metadata": {},
   "source": [
    "This exercise is concerned with baby names in the US between the years 2000 and 2018. The exercise tasks include exploratory data analysis and some data visualization. With these exercises, you will get to practice with some of the most commonly used Pandas features for hand-on data analytics.\n",
    "\n",
    "Data source: catalog.data.gov\n",
    "\n",
    "Inspiration for this exercise: PhantomInsights@github"
   ]
  },
  {
   "cell_type": "markdown",
   "metadata": {
    "hide_input": false
   },
   "source": [
    "The data set is available as a CSV file named \"baby_names_2000.csv\" on GitHub [here](https://github.com/vaksakalli/datasets)."
   ]
  },
  {
   "cell_type": "markdown",
   "metadata": {
    "hide_input": false
   },
   "source": [
    "**Exercise 1:** Place this CSV file under the same directory where your Jupyter Notebook file is. \n",
    "\n",
    "Import Pandas as \"pd\" and NumPy as \"np\". \n",
    "\n",
    "Read the data into a Pandas data frame called `df`."
   ]
  },
  {
   "cell_type": "markdown",
   "metadata": {},
   "source": [
    "**Exercise 2:** How many rows are there in this dataset?"
   ]
  },
  {
   "cell_type": "markdown",
   "metadata": {},
   "source": [
    "**Exercise 3:** How many columns does this dataset have?"
   ]
  },
  {
   "cell_type": "markdown",
   "metadata": {},
   "source": [
    "**Exercise 4:** What are the names of columns in this dataset? Format the output as a Python list, please.\n",
    "\n",
    "**Hint:** Use the `columns` attribute of `df` and cast the result to a Python list."
   ]
  },
  {
   "cell_type": "markdown",
   "metadata": {},
   "source": [
    "**Exercise 5:** Display the first 10 rows."
   ]
  },
  {
   "cell_type": "markdown",
   "metadata": {},
   "source": [
    "**Exercise 6:** Display the last 10 rows."
   ]
  },
  {
   "cell_type": "markdown",
   "metadata": {},
   "source": [
    "**Exercise 7:** Replace the gender \"M\" with \"B\" for boy, and \"F\" with \"G\" for girl."
   ]
  },
  {
   "cell_type": "markdown",
   "metadata": {},
   "source": [
    "**Exercise 8:** What is the earliest year?"
   ]
  },
  {
   "cell_type": "markdown",
   "metadata": {},
   "source": [
    "**Exercise 9:** What is the most recent year?"
   ]
  },
  {
   "cell_type": "markdown",
   "metadata": {},
   "source": [
    "**Exercise 10:** How many unique names are there regardless of gender?\n",
    "\n",
    "**Hint:** Use the `nunique()` function."
   ]
  },
  {
   "cell_type": "markdown",
   "metadata": {},
   "source": [
    "**Exercise 11:** How many unique names for boys?"
   ]
  },
  {
   "cell_type": "markdown",
   "metadata": {},
   "source": [
    "**Exercise 12:** How many unique names for girls?"
   ]
  },
  {
   "cell_type": "markdown",
   "metadata": {},
   "source": [
    "# Optional Exercises"
   ]
  },
  {
   "cell_type": "markdown",
   "metadata": {},
   "source": [
    "**Exercise 13:** The *gender* variable is categorical with two levels: *B, G*. You will now define a new data frame called `pivot_df` by \"spreading\" these two values into two columns where the cell values will be the sum of all the counts over all the years. You need to have a unique name in each row. To be clear, your new data frame needs to have exactly three columns: *name, B, G*. This is called a **pivot table**. Once you define your new data frame, display the top 5 rows.\n",
    "\n",
    "**Hint:** For this, you will need to use the `pivot_table()` function with the `np.sum` aggregation. In particular, you will need to run the line below.\n",
    "```Python\n",
    "pivot_df = df.pivot_table(index = 'name', columns = 'gender', values = 'count', aggfunc = np.sum)\n",
    "```\n",
    "After that, you will need to run the `dropna()` and `reset_index()` functions.\n",
    "\n",
    "\n",
    "**Bonus:** Get rid of the columns' name on the top left corner. That is, set the data frame's columns' `name` attribute to \"None\"."
   ]
  },
  {
   "cell_type": "markdown",
   "metadata": {},
   "source": [
    "**Exercise 14:** How many unique names are there that are gender-neutral (that is, names used for both boys and girls)? For more meaningful results, use names where both boy and girl counts are at least 1000.\n",
    "\n",
    "**Hint:** Use your new pivot table from above and assign the query result to back to `pivot_df`."
   ]
  },
  {
   "cell_type": "markdown",
   "metadata": {},
   "source": [
    "**Exercise 15:** For the pivot table, define a new column *Total* which is the sum of boy and girl name counts for each name. Set the new column's data type to an integer using the `astype()` function with the `int` option. Then display 10 randomly selected rows."
   ]
  },
  {
   "cell_type": "markdown",
   "metadata": {},
   "source": [
    "**Exercise 16:** What are the top 10 boy names?\n",
    "\n",
    "**Hint:** First filter for boys in the `df` data frame (not `pivot_df`). Then use the `groupby()` function on the *names* column followed by the `sum()` function. \n",
    "\n",
    "Keep in mind that when an aggregation function such as `sum()` is called an a `groupby` object, it is applied to each group separately. \n",
    "\n",
    "Next, sort the resulting data frame by the *count* column in a descending order and finally get the top 10 rows."
   ]
  },
  {
   "cell_type": "markdown",
   "metadata": {},
   "source": [
    "**Exercise 17:** How about the top 10 girl names?"
   ]
  },
  {
   "cell_type": "markdown",
   "metadata": {},
   "source": [
    "**Exercise 18:** How about the top 10 gender-neutral names (after filtering for low-count names)?\n",
    "\n",
    "**Hint**: Use the `pivot_df` data frame and sort it."
   ]
  },
  {
   "cell_type": "markdown",
   "metadata": {},
   "source": [
    "**Exercise 19 (Matplotlib):** Plot the number of baby boys and baby girls on the same plot as a function of years. The y-axis should be the number of babies and the x-axis should be the year. Make sure you have a meaningful title, correct x and y axis labels, and also a legend.\n",
    "\n",
    "**Hint:** Define two new data frames using `df`, one for boys and one for girls. For each data frame, first group by the *year* variable and then use the `sum()` function. This will give you data frames with two columns each: `year` and `count`. You can directly pass these data frames into the `plot()` function. Make sure you define 'Boy' and 'Girl' plot labels for the `plot()` function calls. Use blue color for boys and red color for girls. Use a line width of 2 for both using the `lw` option."
   ]
  },
  {
   "cell_type": "markdown",
   "metadata": {},
   "source": [
    "**Exercise 20 (Matplotlib):** We are now interested in two cute baby names: Emma and Emily. Plot the number of baby girls (that is, boys excluded) with these names on the same plot as a function of time as two separate lines. The y-axis should be the number of babies and the x-axis should be the year. Make sure you have a meaningful title, correct x and y labels, and also a legend.\n",
    "\n",
    "Which name seems to maintain its popularity over the years and which name seems to lose it?"
   ]
  },
  {
   "cell_type": "markdown",
   "metadata": {},
   "source": [
    "***\n",
    "www.featureranking.com"
   ]
  }
 ],
 "metadata": {
  "hide_input": false,
  "kernelspec": {
   "display_name": "Python 3",
   "language": "python",
   "name": "python3"
  },
  "language_info": {
   "codemirror_mode": {
    "name": "ipython",
    "version": 3
   },
   "file_extension": ".py",
   "mimetype": "text/x-python",
   "name": "python",
   "nbconvert_exporter": "python",
   "pygments_lexer": "ipython3",
   "version": "3.8.5"
  }
 },
 "nbformat": 4,
 "nbformat_minor": 2
}
