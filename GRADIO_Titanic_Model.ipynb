{
 "cells": [
  {
   "cell_type": "markdown",
   "metadata": {
    "id": "WkwIh7B4kClj"
   },
   "source": [
    "## Using Gradio to wrap a an interface around a Titanic Model\n",
    "\n",
    "Check out the library on [github](https://github.com/gradio-app/gradio-UI) and see the [getting started](https://gradio.app/getting_started.html) page for more demos."
   ]
  },
  {
   "cell_type": "markdown",
   "metadata": {
    "id": "dxfyO-L1kO5g"
   },
   "source": [
    "### Installing and importing"
   ]
  },
  {
   "cell_type": "code",
   "execution_count": 1,
   "metadata": {
    "colab": {
     "base_uri": "https://localhost:8080/",
     "height": 101
    },
    "id": "DiVppJSvdZgR",
    "outputId": "d2aea8a6-fea0-4241-df93-529e248ce7bf"
   },
   "outputs": [],
   "source": [
    "!pip install -q gradio "
   ]
  },
  {
   "cell_type": "code",
   "execution_count": 2,
   "metadata": {
    "id": "RKU3HS7hkQh9"
   },
   "outputs": [],
   "source": [
    "import gradio as gr\n",
    "import pandas as pd\n",
    "import numpy as np\n",
    "import sklearn\n",
    "from sklearn import preprocessing\n",
    "from sklearn.model_selection import train_test_split\n",
    "from sklearn.ensemble import RandomForestClassifier\n",
    "from sklearn.metrics import accuracy_score"
   ]
  },
  {
   "cell_type": "markdown",
   "metadata": {
    "id": "lMGGstVJdlnq"
   },
   "source": [
    "###Create preprocessing functions and train the model\n"
   ]
  },
  {
   "cell_type": "code",
   "execution_count": 3,
   "metadata": {
    "id": "nN54XlHHiin4"
   },
   "outputs": [],
   "source": [
    "def encode_ages(df): # Binning ages \n",
    "    df.Age = df.Age.fillna(-0.5)\n",
    "    bins = (-1, 0, 5, 12, 18, 25, 35, 60, 120)\n",
    "    categories = pd.cut(df.Age, bins, labels=False)\n",
    "    df.Age = categories\n",
    "    return df\n",
    "\n",
    "def encode_fares(df): # Binning fares\n",
    "    df.Fare = df.Fare.fillna(-0.5)\n",
    "    bins = (-1, 0, 8, 15, 31, 1000)\n",
    "    categories = pd.cut(df.Fare, bins, labels=False)\n",
    "    df.Fare = categories\n",
    "    return df\n",
    "\n",
    "def encode_sex(df):\n",
    "    mapping = {\"male\": 0, \"female\": 1}\n",
    "    return df.replace({'Sex': mapping})"
   ]
  },
  {
   "cell_type": "code",
   "execution_count": 4,
   "metadata": {
    "cellView": "both",
    "colab": {
     "base_uri": "https://localhost:8080/",
     "height": 34
    },
    "id": "4hkjj1qMclUx",
    "outputId": "15a30291-da72-48f3-b591-2e3bde0530a4"
   },
   "outputs": [
    {
     "name": "stdout",
     "output_type": "stream",
     "text": [
      "accuracy:  0.8156424581005587\n"
     ]
    }
   ],
   "source": [
    "import warnings\n",
    "warnings.filterwarnings('ignore')\n",
    "\n",
    "data = pd.read_csv('https://raw.githubusercontent.com/gradio-app/titanic/master/train.csv')\n",
    "\n",
    "def transform_features(df):\n",
    "    df = encode_ages(df)\n",
    "    df = encode_fares(df)\n",
    "    df = encode_sex(df)\n",
    "    return df\n",
    "\n",
    "train = data[['PassengerId', 'Fare', 'Age', 'Sex', 'Survived']]\n",
    "train = transform_features(train)\n",
    "\n",
    "\n",
    "X_all = train.drop(['Survived', 'PassengerId'], axis=1)\n",
    "y_all = train['Survived']\n",
    "\n",
    "num_test = 0.20\n",
    "X_train, X_test, y_train, y_test = train_test_split(X_all, y_all, test_size=num_test, random_state=23)\n",
    "\n",
    "clf = RandomForestClassifier()\n",
    "clf.fit(X_train, y_train)\n",
    "predictions = clf.predict(X_test)\n",
    "print(\"accuracy: \", accuracy_score(y_test, predictions))"
   ]
  },
  {
   "cell_type": "markdown",
   "metadata": {
    "id": "1e3kmZSDoMly"
   },
   "source": [
    "###Write a prediction function"
   ]
  },
  {
   "cell_type": "code",
   "execution_count": 5,
   "metadata": {
    "id": "8U2Xk7_gfYHZ"
   },
   "outputs": [],
   "source": [
    "def predict_survival(sex, age, fare):\n",
    "    df = pd.DataFrame.from_dict({'Sex': [sex], 'Age': [age], 'Fare': [fare]})\n",
    "    df = encode_sex(df)\n",
    "    df = encode_fares(df)\n",
    "    df = encode_ages(df)\n",
    "    pred = clf.predict_proba(df)[0]\n",
    "    return {'Perishes': pred[0], 'Survives': pred[1]}"
   ]
  },
  {
   "cell_type": "markdown",
   "metadata": {
    "id": "gifBLvb1plZA"
   },
   "source": [
    "###Build a shareable UI in 4 lines of code!"
   ]
  },
  {
   "cell_type": "code",
   "execution_count": 6,
   "metadata": {
    "colab": {
     "base_uri": "https://localhost:8080/",
     "height": 554
    },
    "id": "AMfT9wcGgVR-",
    "outputId": "a4c236a0-ef37-466c-c2d6-796e8b09d125"
   },
   "outputs": [
    {
     "name": "stdout",
     "output_type": "stream",
     "text": [
      "Running locally at: http://127.0.0.1:7860/\n",
      "To create a public link, set `share=True` in `launch()`.\n",
      "Interface loading below...\n"
     ]
    },
    {
     "data": {
      "text/html": [
       "\n",
       "        <iframe\n",
       "            width=\"1000\"\n",
       "            height=\"500\"\n",
       "            src=\"http://127.0.0.1:7860/\"\n",
       "            frameborder=\"0\"\n",
       "            allowfullscreen\n",
       "        ></iframe>\n",
       "        "
      ],
      "text/plain": [
       "<IPython.lib.display.IFrame at 0x1b5c4501430>"
      ]
     },
     "metadata": {},
     "output_type": "display_data"
    }
   ],
   "source": [
    "sex = gr.inputs.Radio(['female', 'male'], label=\"Sex\")\n",
    "age = gr.inputs.Slider(minimum=0, maximum=120, default=22, label=\"Age\")\n",
    "fare = gr.inputs.Slider(minimum=0, maximum=1000, default=100, label=\"Fare (british pounds)\")\n",
    "\n",
    "gr.Interface(predict_survival, [sex, age, fare], \"label\", live=True, interpretation=\"default\").launch();"
   ]
  },
  {
   "cell_type": "markdown",
   "metadata": {
    "id": "yI65eCfSEptK"
   },
   "source": [
    "#### Your model is now live on the gradio.app link shown above. Go ahead and open that in a new tab!"
   ]
  },
  {
   "cell_type": "markdown",
   "metadata": {
    "id": "2ERqvyssE6NT"
   },
   "source": [
    "Please contact us [here](mailto:team@gradio.app) if you have any questions, or [open an issue](https://github.com/gradio-app/gradio-UI/issues/new/choose) at our github repo.\n"
   ]
  }
 ],
 "metadata": {
  "colab": {
   "collapsed_sections": [],
   "name": "GRADIO: Titanic Model",
   "provenance": []
  },
  "kernelspec": {
   "display_name": "Python 3",
   "language": "python",
   "name": "python3"
  },
  "language_info": {
   "codemirror_mode": {
    "name": "ipython",
    "version": 3
   },
   "file_extension": ".py",
   "mimetype": "text/x-python",
   "name": "python",
   "nbconvert_exporter": "python",
   "pygments_lexer": "ipython3",
   "version": "3.8.5"
  }
 },
 "nbformat": 4,
 "nbformat_minor": 1
}
