{
 "cells": [
  {
   "cell_type": "markdown",
   "metadata": {},
   "source": [
    "# Practice Exercise: Formatting Jupyter Notebooks"
   ]
  },
  {
   "cell_type": "markdown",
   "metadata": {},
   "source": [
    "## Summary\n",
    "For this practice session, your task is to **reverse engineer** this HTML page (starting from the `Credit` section below) back to Jupyter notebook format. That is, you will come up with a Jupyter notebook that, when saved as HTML, it will look like **exactly** this page. In particular, you need to make sure that your website links work correctly and your Table of Contents is clickable.\n",
    "\n",
    "\n",
    "## Purpose\n",
    "This practice exercise will help you become familiar and comfortable with Jupyter notebook format. This is a critical skill in this course because you will be submitting *all* of your assessments (other than the online practical assessment) as HTML files converted from Jupyter notebooks. You will also gain experience in embedding mathematical notation inside Jupyter notebooks.\n",
    "\n",
    "## Instructions\n",
    "- Please make sure you reverse engineer the entire document for ensuring sufficient competency in working with Jupyter notebooks!<br>\n",
    "- While working on your solutions, please pay attention to the content as well, which is related to variables and expressions in Python.<br>\n",
    "- Keep in mind that your solutions for practice session exercises will **not** be marked.<br>\n",
    "- Also keep in mind that we will be releasing the solutions one day after the practice sessions.<br>\n",
    "\n",
    "## Latex Hints\n",
    "- $\\LaTeX$ (pronounced as in `leitek` per [Wikipedia](https://en.wikipedia.org/wiki/LaTeX#Pronouncing_and_writing)) is a language for typesetting beautiful-looking math expressions. You can embed Latex expressions directly inside your notebooks for professional-looking reports.\n",
    "- Inline Latex expressions need to be enclosed between single dollar (\\$\\) signs.\n",
    "- Latex expressions on their own line need to be enclosed between double dollar signs.\n",
    "- Fractions are defined by \\frac{}{} statements. \n",
    "- Example 1: \n",
    "```latex\n",
    "\\alpha = \\frac{\\beta}{\\gamma} \n",
    "```\n",
    "between single dollar signs will give you $\\alpha = \\frac{\\beta}{\\gamma}$.\n",
    "- Example 2: \n",
    "```latex\n",
    "e^x=\\sum_{i=0}^\\infty \\frac{1}{i!}x^i\n",
    "```\n",
    "between double dollar signs will give you the expression below:\n",
    "$$ e^x=\\sum_{i=0}^\\infty \\frac{1}{i!}x^i$$\n",
    "\n",
    "- Some Latex expressions you might find useful are \\times, \\dot, \\leftarrow, \\rightarrow, etc.\n",
    "- For Latex expressions to work on your local installation, you will need to install either MacTex (Mac) or MikTex (Windows) and also perhaps do some additional Google'ing.\n",
    "- For further help, just Google! Like `Greek symbols in Latex`, `Arrows in Latex` etc."
   ]
  },
  {
   "cell_type": "markdown",
   "metadata": {},
   "source": [
    "# START FROM BELOW:\n",
    "\n",
    "***\n",
    "\n",
    "# Credit\n",
    "This page is adapted from University of Cambridge Engineering Department's gitHub page [here](https://github.com/CambridgeEngineering).\n",
    "\n",
    "\n",
    "# Introduction\n",
    "\n",
    "We begin with assignment to variables and familiar mathematical operations.\n",
    "\n",
    "\n",
    "# Objectives\n",
    "\n",
    "1. Introduce expressions and basic operators\n",
    "2. Introduce operator precedence"
   ]
  },
  {
   "cell_type": "markdown",
   "metadata": {},
   "source": [
    "# Table of Contents\n",
    "- [Evaluating expressions: simple operators](#evaluation)\n",
    "- [Operator precedence](#precedence)"
   ]
  },
  {
   "cell_type": "markdown",
   "metadata": {},
   "source": [
    "# Evaluating expressions: simple operators <a name=\"evaluation\"></a>\n",
    "\n",
    "We can use Python like a **calculator**. Consider the simple expression $3 + 8$. We can evaluate and print this by:"
   ]
  },
  {
   "cell_type": "code",
   "execution_count": 1,
   "metadata": {},
   "outputs": [
    {
     "data": {
      "text/plain": [
       "11"
      ]
     },
     "execution_count": 1,
     "metadata": {},
     "output_type": "execute_result"
    }
   ],
   "source": [
    "3 + 8"
   ]
  },
  {
   "cell_type": "markdown",
   "metadata": {},
   "source": [
    "Another simple calculation is the gravitational potential $V$ of a body of mass $m$ (point mass) at a distance $r_{M}$ from a body of mass $M$, which is given by\n",
    "\n",
    "$$\n",
    "V = \\frac{G M m}{r_{M}}\n",
    "$$\n",
    "\n",
    "where $G$ is the *gravitational constant*. A good approximation is $G = 6.674 \\times 10^{-11}$ N m$^{2}$ kg$^{-2}$.\n",
    "\n",
    "For the case $M = 1.65 \\times 10^{12}$ kg, $m = 6.1 \\times 10^2$ kg and $r_{M} = 7.0 \\times 10^3$ m, we can easily compute the gravitational potential $V$ using Python.\n",
    "\n",
    "To display the value of $V$, we will use the **f-strings** functionality first introduced in Python 3.6.\n",
    "\n",
    "For this to work, **you must make sure that your Python kernel is at least 3.6**: go to *Kernel* $\\rightarrow$ *Change Kernel* $\\rightarrow$ Select *Python 3.6*\n",
    "\n",
    "Notice below how you can easily round a variable inside an f-string!"
   ]
  },
  {
   "cell_type": "code",
   "execution_count": 1,
   "metadata": {},
   "outputs": [
    {
     "name": "stdout",
     "output_type": "stream",
     "text": [
      "Value of V rounded to 3 decimal places is 9.596\n"
     ]
    }
   ],
   "source": [
    "V = 6.674e-11*1.65e12*6.1e2/7.0e3\n",
    "print(f'Value of V rounded to 3 decimal places is {V:.3f}')"
   ]
  },
  {
   "cell_type": "markdown",
   "metadata": {},
   "source": [
    "We have used 'scientific notation' to input the values. For example, the number $8 \\times 10^{-2}$ can be input as `0.08` or `8e-2`. We can easily verify that the two are the same via subtraction:"
   ]
  },
  {
   "cell_type": "code",
   "execution_count": 3,
   "metadata": {},
   "outputs": [
    {
     "data": {
      "text/plain": [
       "0.0"
      ]
     },
     "execution_count": 3,
     "metadata": {},
     "output_type": "execute_result"
    }
   ],
   "source": [
    "0.08 - 8e-2"
   ]
  },
  {
   "cell_type": "markdown",
   "metadata": {},
   "source": [
    "A common operation is raising a number to a power. To compute $3^4$:"
   ]
  },
  {
   "cell_type": "code",
   "execution_count": 4,
   "metadata": {},
   "outputs": [
    {
     "data": {
      "text/plain": [
       "81"
      ]
     },
     "execution_count": 4,
     "metadata": {},
     "output_type": "execute_result"
    }
   ],
   "source": [
    "3**4"
   ]
  },
  {
   "cell_type": "markdown",
   "metadata": {},
   "source": [
    "The remainder is computed using the modulus operator '`%`':"
   ]
  },
  {
   "cell_type": "code",
   "execution_count": 5,
   "metadata": {},
   "outputs": [
    {
     "data": {
      "text/plain": [
       "2"
      ]
     },
     "execution_count": 5,
     "metadata": {},
     "output_type": "execute_result"
    }
   ],
   "source": [
    "11 % 3"
   ]
  },
  {
   "cell_type": "markdown",
   "metadata": {},
   "source": [
    "To get the quotient we use 'floor division', which uses the symbol '`//`':"
   ]
  },
  {
   "cell_type": "code",
   "execution_count": 6,
   "metadata": {},
   "outputs": [
    {
     "data": {
      "text/plain": [
       "3"
      ]
     },
     "execution_count": 6,
     "metadata": {},
     "output_type": "execute_result"
    }
   ],
   "source": [
    "11 // 3"
   ]
  },
  {
   "cell_type": "markdown",
   "metadata": {},
   "source": [
    "# Operator precedence <a name=\"precedence\"></a>\n",
    "\n",
    "Operator precedence refers to the order in which operations are performed, e.g. multiplication before addition.<br>\n",
    "Most programming languages, including Python, follow the usual mathematical rules for precedence. We explore this through some examples."
   ]
  },
  {
   "cell_type": "markdown",
   "metadata": {},
   "source": [
    "Consider the expression $4 \\cdot (7 - 2) = 20$. If we are careless, "
   ]
  },
  {
   "cell_type": "code",
   "execution_count": 7,
   "metadata": {},
   "outputs": [
    {
     "data": {
      "text/plain": [
       "26"
      ]
     },
     "execution_count": 7,
     "metadata": {},
     "output_type": "execute_result"
    }
   ],
   "source": [
    "4*7 - 2"
   ]
  },
  {
   "cell_type": "markdown",
   "metadata": {},
   "source": [
    "In the above, `4*7` is evaluated first, then `2` is subtracted because multiplication (`*`) comes before subtraction (`-`) in terms of precedence. We can control the order of the operation using brackets, just as we would on paper:"
   ]
  },
  {
   "cell_type": "code",
   "execution_count": 8,
   "metadata": {},
   "outputs": [
    {
     "data": {
      "text/plain": [
       "20"
      ]
     },
     "execution_count": 8,
     "metadata": {},
     "output_type": "execute_result"
    }
   ],
   "source": [
    "4*(7 - 2)"
   ]
  },
  {
   "cell_type": "markdown",
   "metadata": {},
   "source": [
    "A common example where readability is a concern is \n",
    "\n",
    "$$\n",
    "\\frac{10}{2 \\times 50} = 0.1\n",
    "$$\n",
    "\n",
    "The code"
   ]
  },
  {
   "cell_type": "code",
   "execution_count": 9,
   "metadata": {},
   "outputs": [
    {
     "data": {
      "text/plain": [
       "250.0"
      ]
     },
     "execution_count": 9,
     "metadata": {},
     "output_type": "execute_result"
    }
   ],
   "source": [
    "10/2*50"
   ]
  },
  {
   "cell_type": "markdown",
   "metadata": {},
   "source": [
    "is not consistent with what we wish to compute. Multiplication and division have the same precedence, so the expression is evaluated 'left-to-right'. The correct result is computed from "
   ]
  },
  {
   "cell_type": "code",
   "execution_count": 10,
   "metadata": {},
   "outputs": [
    {
     "data": {
      "text/plain": [
       "0.1"
      ]
     },
     "execution_count": 10,
     "metadata": {},
     "output_type": "execute_result"
    }
   ],
   "source": [
    "10/2/50"
   ]
  },
  {
   "cell_type": "markdown",
   "metadata": {},
   "source": [
    "but this is hard to read and could easily lead to errors in a program. Better is to use brackets to make the order clear:"
   ]
  },
  {
   "cell_type": "code",
   "execution_count": 11,
   "metadata": {},
   "outputs": [
    {
     "data": {
      "text/plain": [
       "0.1"
      ]
     },
     "execution_count": 11,
     "metadata": {},
     "output_type": "execute_result"
    }
   ],
   "source": [
    "10/(2*50)"
   ]
  },
  {
   "cell_type": "markdown",
   "metadata": {},
   "source": [
    "***\n",
    "www.featureranking.com"
   ]
  }
 ],
 "metadata": {
  "kernelspec": {
   "display_name": "Python 3",
   "language": "python",
   "name": "python3"
  },
  "language_info": {
   "codemirror_mode": {
    "name": "ipython",
    "version": 3
   },
   "file_extension": ".py",
   "mimetype": "text/x-python",
   "name": "python",
   "nbconvert_exporter": "python",
   "pygments_lexer": "ipython3",
   "version": "3.8.5"
  }
 },
 "nbformat": 4,
 "nbformat_minor": 4
}
